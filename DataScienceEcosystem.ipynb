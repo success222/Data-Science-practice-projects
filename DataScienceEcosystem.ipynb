{
 "cells": [
  {
   "cell_type": "markdown",
   "id": "03d75ef2-1a25-45de-a833-4d2513f36b49",
   "metadata": {},
   "source": [
    "# Data Science Tools and Ecosystem"
   ]
  },
  {
   "cell_type": "markdown",
   "id": "36196c33-20f2-48df-b4c5-b5b3a0dff4a0",
   "metadata": {},
   "source": [
    "In this notebook, Data Science Tools and Ecosystem are summarized."
   ]
  },
  {
   "cell_type": "markdown",
   "id": "8801d1f2-8d47-42cc-967a-c079206ae851",
   "metadata": {},
   "source": [
    "**Objectives:**"
   ]
  },
  {
   "cell_type": "markdown",
   "id": "62e2491e-7414-4a5f-a7fa-170b04de7f8b",
   "metadata": {},
   "source": [
    "* List popular languages for Data Science\n",
    "* List libraries used by Data Scientists\n",
    "* List popular development environment open-source tools used in Data Science\n",
    "* Carry out basic arithmetics\n",
    "* Create a table using Jupyter Notebook"
   ]
  },
  {
   "cell_type": "markdown",
   "id": "ce743371-dbc3-48d7-84f9-d681733284e6",
   "metadata": {},
   "source": [
    "Some of the popular languages that Data Scientists use are:\n",
    "1. R \n",
    "2. Python\n",
    "3. Java\n",
    "4. SQL\n",
    "5. Scala\n",
    "6. C++\n",
    "7. JavaScript"
   ]
  },
  {
   "cell_type": "markdown",
   "id": "e2356429-4c67-4b4b-9dbd-ad5b3690b672",
   "metadata": {},
   "source": [
    "Some of the commonly used libraries used by Data Scientists include:\n",
    "1. Numpy\n",
    "2. Matplotlib\n",
    "3. Pandas\n",
    "4. Seaborn\n",
    "5. TensorFlow"
   ]
  },
  {
   "cell_type": "markdown",
   "id": "e04c0735-2c93-4bfe-9350-e45a8d8b0601",
   "metadata": {},
   "source": [
    "### Data Science Tools"
   ]
  },
  {
   "cell_type": "markdown",
   "id": "b92216b6-5722-41da-bdd8-3d7c973dea7e",
   "metadata": {},
   "source": [
    "|Data Science Tools|\n",
    "|------------------|\n",
    "|Jupyter Notebook|\n",
    "|R Studio|\n",
    "|Visual Studio Code|"
   ]
  },
  {
   "cell_type": "markdown",
   "id": "cbc53ec8-dd54-4ccc-86dd-92a08cd34a61",
   "metadata": {},
   "source": [
    "## Introducing Arithmetic Expression Examples"
   ]
  },
  {
   "cell_type": "markdown",
   "id": "040dc6c4-eeba-479a-b744-6c521dc80bd6",
   "metadata": {},
   "source": [
    "### Below are a few examples of evaluating arithmetic expressions in Python"
   ]
  },
  {
   "cell_type": "markdown",
   "id": "00c1ffba-a828-42c4-9e94-14a6d24deac5",
   "metadata": {},
   "source": [
    "#### Multiplication and Addition of Numbers"
   ]
  },
  {
   "cell_type": "code",
   "execution_count": 18,
   "id": "3a01b0ab-933a-4b08-ad2a-2a07fb937762",
   "metadata": {},
   "outputs": [
    {
     "data": {
      "text/plain": [
       "17"
      ]
     },
     "execution_count": 18,
     "metadata": {},
     "output_type": "execute_result"
    }
   ],
   "source": [
    "#This is a simple arithmetic expression to multiply then add integers.\n",
    "\n",
    "(3*4)+5\n"
   ]
  },
  {
   "cell_type": "code",
   "execution_count": null,
   "id": "66ea8716-820c-45cb-b611-5ec0ca57b352",
   "metadata": {},
   "outputs": [],
   "source": []
  },
  {
   "cell_type": "markdown",
   "id": "7fd5cbc8-39e0-4be1-96a0-e469d975f2bf",
   "metadata": {},
   "source": [
    "#### Conersion of minutes to hours"
   ]
  },
  {
   "cell_type": "code",
   "execution_count": 22,
   "id": "42161997-2646-4a21-ae8a-42aecaea58ef",
   "metadata": {},
   "outputs": [
    {
     "data": {
      "text/plain": [
       "3.3333333333333335"
      ]
     },
     "execution_count": 22,
     "metadata": {},
     "output_type": "execute_result"
    }
   ],
   "source": [
    "#This will convert 200 minutes to hours by diving by 60\n",
    "\n",
    "200/60"
   ]
  },
  {
   "cell_type": "markdown",
   "id": "d95a385b-0d99-4628-b3de-beaac3264906",
   "metadata": {},
   "source": [
    "## Author"
   ]
  },
  {
   "cell_type": "markdown",
   "id": "64c28d66-5bb1-4e81-962a-f996bafe0b2d",
   "metadata": {},
   "source": [
    "Sotonwa Success"
   ]
  },
  {
   "cell_type": "code",
   "execution_count": null,
   "id": "28feaf09-f640-472e-8279-f2bc1c1c6c9b",
   "metadata": {},
   "outputs": [],
   "source": []
  }
 ],
 "metadata": {
  "kernelspec": {
   "display_name": "Python [conda env:base] *",
   "language": "python",
   "name": "conda-base-py"
  },
  "language_info": {
   "codemirror_mode": {
    "name": "ipython",
    "version": 3
   },
   "file_extension": ".py",
   "mimetype": "text/x-python",
   "name": "python",
   "nbconvert_exporter": "python",
   "pygments_lexer": "ipython3",
   "version": "3.12.7"
  }
 },
 "nbformat": 4,
 "nbformat_minor": 5
}
